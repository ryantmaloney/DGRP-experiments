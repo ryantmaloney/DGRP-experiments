{
 "cells": [
  {
   "cell_type": "code",
   "execution_count": null,
   "metadata": {},
   "outputs": [],
   "source": [
    "import os\n",
    "from cmdstanpy import cmdstan_path, CmdStanModel"
   ]
  },
  {
   "cell_type": "markdown",
   "metadata": {},
   "source": []
  },
  {
   "cell_type": "code",
   "execution_count": null,
   "metadata": {},
   "outputs": [],
   "source": []
  },
  {
   "cell_type": "code",
   "execution_count": 2,
   "metadata": {},
   "outputs": [],
   "source": [
    "stan_file = os.path.join(cmdstan_path(), 'examples', 'bernoulli', 'bernoulli.stan')"
   ]
  },
  {
   "cell_type": "code",
   "execution_count": 3,
   "metadata": {},
   "outputs": [],
   "source": [
    "model = CmdStanModel(stan_file=stan_file)"
   ]
  },
  {
   "cell_type": "code",
   "execution_count": 4,
   "metadata": {},
   "outputs": [],
   "source": [
    "# import cmdstanpy \n",
    "# cmdstanpy.rebuild_cmdstan()"
   ]
  },
  {
   "cell_type": "code",
   "execution_count": 5,
   "metadata": {},
   "outputs": [
    {
     "name": "stdout",
     "output_type": "stream",
     "text": [
      "CmdStanModel: name=bernoulli\n",
      "\t stan_file=/Users/ryanmaloney/miniforge3/envs/cmdstan/bin/cmdstan/examples/bernoulli/bernoulli.stan\n",
      "\t exe_file=/Users/ryanmaloney/miniforge3/envs/cmdstan/bin/cmdstan/examples/bernoulli/bernoulli\n",
      "\t compiler_options=stanc_options={}, cpp_options={}\n"
     ]
    }
   ],
   "source": [
    "print(model)"
   ]
  },
  {
   "cell_type": "code",
   "execution_count": 6,
   "metadata": {},
   "outputs": [
    {
     "name": "stdout",
     "output_type": "stream",
     "text": [
      "{'stan_version_major': '2', 'stan_version_minor': '29', 'stan_version_patch': '2', 'STAN_THREADS': 'false', 'STAN_MPI': 'false', 'STAN_OPENCL': 'false', 'STAN_NO_RANGE_CHECKS': 'false', 'STAN_CPP_OPTIMS': 'false'}\n"
     ]
    }
   ],
   "source": [
    "print(model.exe_info())"
   ]
  },
  {
   "cell_type": "code",
   "execution_count": 7,
   "metadata": {},
   "outputs": [
    {
     "data": {
      "text/plain": [
       "{'N': 10, 'y': [0, 1, 0, 0, 0, 0, 0, 0, 0, 1]}"
      ]
     },
     "execution_count": 7,
     "metadata": {},
     "output_type": "execute_result"
    }
   ],
   "source": [
    "{\n",
    " \"N\" : 10,\n",
    " \"y\" : [0,1,0,0,0,0,0,0,0,1]\n",
    "}"
   ]
  },
  {
   "cell_type": "code",
   "execution_count": 8,
   "metadata": {},
   "outputs": [],
   "source": [
    "data_file = os.path.join(cmdstan_path(), 'examples', 'bernoulli', 'bernoulli.data.json')"
   ]
  },
  {
   "cell_type": "code",
   "execution_count": 9,
   "metadata": {},
   "outputs": [
    {
     "name": "stderr",
     "output_type": "stream",
     "text": [
      "16:39:13 - cmdstanpy - INFO - CmdStan start processing\n"
     ]
    },
    {
     "data": {
      "application/vnd.jupyter.widget-view+json": {
       "model_id": "bd6f746290b3417c8623e8bbdacace2b",
       "version_major": 2,
       "version_minor": 0
      },
      "text/plain": [
       "chain 1 |          | 00:00 Status"
      ]
     },
     "metadata": {},
     "output_type": "display_data"
    },
    {
     "data": {
      "application/vnd.jupyter.widget-view+json": {
       "model_id": "d576e53f27794406b7de53812d072988",
       "version_major": 2,
       "version_minor": 0
      },
      "text/plain": [
       "chain 2 |          | 00:00 Status"
      ]
     },
     "metadata": {},
     "output_type": "display_data"
    },
    {
     "data": {
      "application/vnd.jupyter.widget-view+json": {
       "model_id": "833877c8fef249e18fadc4875cb7ff4f",
       "version_major": 2,
       "version_minor": 0
      },
      "text/plain": [
       "chain 3 |          | 00:00 Status"
      ]
     },
     "metadata": {},
     "output_type": "display_data"
    },
    {
     "data": {
      "application/vnd.jupyter.widget-view+json": {
       "model_id": "3bd13e776b4044e296f35a0a5cfe8123",
       "version_major": 2,
       "version_minor": 0
      },
      "text/plain": [
       "chain 4 |          | 00:00 Status"
      ]
     },
     "metadata": {},
     "output_type": "display_data"
    },
    {
     "name": "stdout",
     "output_type": "stream",
     "text": [
      "                                                                                                                                                                                                                                                                                                                                "
     ]
    },
    {
     "name": "stderr",
     "output_type": "stream",
     "text": [
      "16:39:13 - cmdstanpy - INFO - CmdStan done processing.\n"
     ]
    },
    {
     "name": "stdout",
     "output_type": "stream",
     "text": [
      "\n"
     ]
    }
   ],
   "source": [
    "fit = model.sample(data=data_file)"
   ]
  },
  {
   "cell_type": "code",
   "execution_count": 10,
   "metadata": {},
   "outputs": [
    {
     "name": "stdout",
     "output_type": "stream",
     "text": [
      "CmdStanMCMC: model=bernoulli chains=4['method=sample', 'algorithm=hmc', 'adapt', 'engaged=1']\n",
      " csv_files:\n",
      "\t/var/folders/s_/7_g1r1fs2wdcxn113q39_gzw0000gn/T/tmpc77hevbm/bernoulliacna6388/bernoulli-20221028163913_1.csv\n",
      "\t/var/folders/s_/7_g1r1fs2wdcxn113q39_gzw0000gn/T/tmpc77hevbm/bernoulliacna6388/bernoulli-20221028163913_2.csv\n",
      "\t/var/folders/s_/7_g1r1fs2wdcxn113q39_gzw0000gn/T/tmpc77hevbm/bernoulliacna6388/bernoulli-20221028163913_3.csv\n",
      "\t/var/folders/s_/7_g1r1fs2wdcxn113q39_gzw0000gn/T/tmpc77hevbm/bernoulliacna6388/bernoulli-20221028163913_4.csv\n",
      " output_files:\n",
      "\t/var/folders/s_/7_g1r1fs2wdcxn113q39_gzw0000gn/T/tmpc77hevbm/bernoulliacna6388/bernoulli-20221028163913_0-stdout.txt\n",
      "\t/var/folders/s_/7_g1r1fs2wdcxn113q39_gzw0000gn/T/tmpc77hevbm/bernoulliacna6388/bernoulli-20221028163913_1-stdout.txt\n",
      "\t/var/folders/s_/7_g1r1fs2wdcxn113q39_gzw0000gn/T/tmpc77hevbm/bernoulliacna6388/bernoulli-20221028163913_2-stdout.txt\n",
      "\t/var/folders/s_/7_g1r1fs2wdcxn113q39_gzw0000gn/T/tmpc77hevbm/bernoulliacna6388/bernoulli-20221028163913_3-stdout.txt\n"
     ]
    }
   ],
   "source": [
    "print(fit)"
   ]
  },
  {
   "cell_type": "code",
   "execution_count": 11,
   "metadata": {},
   "outputs": [
    {
     "data": {
      "text/plain": [
       "array([[[-7.89624  ,  1.       ,  0.721916 , ...,  0.       ,\n",
       "          8.43913  ,  0.098019 ],\n",
       "        [-7.13005  ,  1.       ,  0.909109 , ...,  0.       ,\n",
       "          7.65409  ,  0.368203 ],\n",
       "        [-7.44246  ,  1.       ,  0.96969  , ...,  0.       ,\n",
       "          7.65662  ,  0.124829 ],\n",
       "        [-6.75491  ,  0.979391 ,  0.91458  , ...,  0.       ,\n",
       "          7.75857  ,  0.235523 ]],\n",
       "\n",
       "       [[-7.44806  ,  1.       ,  0.721916 , ...,  0.       ,\n",
       "          7.85236  ,  0.124422 ],\n",
       "        [-7.1486   ,  0.797967 ,  0.909109 , ...,  0.       ,\n",
       "          8.30975  ,  0.150579 ],\n",
       "        [-7.11655  ,  1.       ,  0.96969  , ...,  0.       ,\n",
       "          7.3983   ,  0.154112 ],\n",
       "        [-6.76718  ,  0.994052 ,  0.91458  , ...,  0.       ,\n",
       "          6.79956  ,  0.274985 ]],\n",
       "\n",
       "       [[-6.84647  ,  0.928178 ,  0.721916 , ...,  0.       ,\n",
       "          8.35837  ,  0.307993 ],\n",
       "        [-8.84397  ,  0.814578 ,  0.909109 , ...,  0.       ,\n",
       "          9.18079  ,  0.0639438],\n",
       "        [-6.75204  ,  0.955889 ,  0.96969  , ...,  0.       ,\n",
       "          7.57197  ,  0.261311 ],\n",
       "        [-7.02483  ,  0.913418 ,  0.91458  , ...,  0.       ,\n",
       "          7.32127  ,  0.165477 ]],\n",
       "\n",
       "       ...,\n",
       "\n",
       "       [[-6.80008  ,  1.       ,  0.721916 , ...,  0.       ,\n",
       "          6.84566  ,  0.2917   ],\n",
       "        [-7.57483  ,  1.       ,  0.909109 , ...,  0.       ,\n",
       "          7.86254  ,  0.115831 ],\n",
       "        [-6.76176  ,  0.973926 ,  0.96969  , ...,  0.       ,\n",
       "          9.22578  ,  0.229671 ],\n",
       "        [-8.39581  ,  1.       ,  0.91458  , ...,  0.       ,\n",
       "          8.44079  ,  0.0775911]],\n",
       "\n",
       "       [[-6.87853  ,  0.949273 ,  0.721916 , ...,  0.       ,\n",
       "          7.15704  ,  0.190034 ],\n",
       "        [-7.27282  ,  1.       ,  0.909109 , ...,  0.       ,\n",
       "          7.55077  ,  0.13846  ],\n",
       "        [-7.84886  ,  0.854176 ,  0.96969  , ...,  0.       ,\n",
       "          7.89983  ,  0.100358 ],\n",
       "        [-7.95928  ,  1.       ,  0.91458  , ...,  0.       ,\n",
       "          8.39041  ,  0.0950341]],\n",
       "\n",
       "       [[-7.02706  ,  0.97743  ,  0.721916 , ...,  0.       ,\n",
       "          7.0271   ,  0.165173 ],\n",
       "        [-7.25691  ,  1.       ,  0.909109 , ...,  0.       ,\n",
       "          7.3508   ,  0.139894 ],\n",
       "        [-7.84628  ,  1.       ,  0.96969  , ...,  0.       ,\n",
       "          8.01209  ,  0.100488 ],\n",
       "        [-8.19396  ,  0.979163 ,  0.91458  , ...,  0.       ,\n",
       "          8.2716   ,  0.0850327]]])"
      ]
     },
     "execution_count": 11,
     "metadata": {},
     "output_type": "execute_result"
    }
   ],
   "source": [
    "fit.draws()"
   ]
  },
  {
   "cell_type": "code",
   "execution_count": 12,
   "metadata": {},
   "outputs": [
    {
     "data": {
      "text/html": [
       "<div>\n",
       "<style scoped>\n",
       "    .dataframe tbody tr th:only-of-type {\n",
       "        vertical-align: middle;\n",
       "    }\n",
       "\n",
       "    .dataframe tbody tr th {\n",
       "        vertical-align: top;\n",
       "    }\n",
       "\n",
       "    .dataframe thead th {\n",
       "        text-align: right;\n",
       "    }\n",
       "</style>\n",
       "<table border=\"1\" class=\"dataframe\">\n",
       "  <thead>\n",
       "    <tr style=\"text-align: right;\">\n",
       "      <th></th>\n",
       "      <th>Mean</th>\n",
       "      <th>MCSE</th>\n",
       "      <th>StdDev</th>\n",
       "      <th>5%</th>\n",
       "      <th>50%</th>\n",
       "      <th>95%</th>\n",
       "      <th>N_Eff</th>\n",
       "      <th>N_Eff/s</th>\n",
       "      <th>R_hat</th>\n",
       "    </tr>\n",
       "  </thead>\n",
       "  <tbody>\n",
       "    <tr>\n",
       "      <th>lp__</th>\n",
       "      <td>-7.283120</td>\n",
       "      <td>0.020252</td>\n",
       "      <td>0.726182</td>\n",
       "      <td>-8.684630</td>\n",
       "      <td>-6.997720</td>\n",
       "      <td>-6.750310</td>\n",
       "      <td>1285.69</td>\n",
       "      <td>38960.4</td>\n",
       "      <td>1.00478</td>\n",
       "    </tr>\n",
       "    <tr>\n",
       "      <th>theta</th>\n",
       "      <td>0.253333</td>\n",
       "      <td>0.003208</td>\n",
       "      <td>0.121444</td>\n",
       "      <td>0.080982</td>\n",
       "      <td>0.237249</td>\n",
       "      <td>0.479679</td>\n",
       "      <td>1432.75</td>\n",
       "      <td>43416.6</td>\n",
       "      <td>1.00146</td>\n",
       "    </tr>\n",
       "  </tbody>\n",
       "</table>\n",
       "</div>"
      ],
      "text/plain": [
       "           Mean      MCSE    StdDev        5%       50%       95%    N_Eff  \\\n",
       "lp__  -7.283120  0.020252  0.726182 -8.684630 -6.997720 -6.750310  1285.69   \n",
       "theta  0.253333  0.003208  0.121444  0.080982  0.237249  0.479679  1432.75   \n",
       "\n",
       "       N_Eff/s    R_hat  \n",
       "lp__   38960.4  1.00478  \n",
       "theta  43416.6  1.00146  "
      ]
     },
     "execution_count": 12,
     "metadata": {},
     "output_type": "execute_result"
    }
   ],
   "source": [
    "fit.summary()"
   ]
  },
  {
   "cell_type": "code",
   "execution_count": 13,
   "metadata": {},
   "outputs": [
    {
     "data": {
      "text/plain": [
       "'Processing csv files: /var/folders/s_/7_g1r1fs2wdcxn113q39_gzw0000gn/T/tmpc77hevbm/bernoulliacna6388/bernoulli-20221028163913_1.csv, /var/folders/s_/7_g1r1fs2wdcxn113q39_gzw0000gn/T/tmpc77hevbm/bernoulliacna6388/bernoulli-20221028163913_2.csv, /var/folders/s_/7_g1r1fs2wdcxn113q39_gzw0000gn/T/tmpc77hevbm/bernoulliacna6388/bernoulli-20221028163913_3.csv, /var/folders/s_/7_g1r1fs2wdcxn113q39_gzw0000gn/T/tmpc77hevbm/bernoulliacna6388/bernoulli-20221028163913_4.csv\\n\\nChecking sampler transitions treedepth.\\nTreedepth satisfactory for all transitions.\\n\\nChecking sampler transitions for divergences.\\nNo divergent transitions found.\\n\\nChecking E-BFMI - sampler transitions HMC potential energy.\\nE-BFMI satisfactory.\\n\\nEffective sample size satisfactory.\\n\\nSplit R-hat values satisfactory all parameters.\\n\\nProcessing complete, no problems detected.\\n'"
      ]
     },
     "execution_count": 13,
     "metadata": {},
     "output_type": "execute_result"
    }
   ],
   "source": [
    "fit.diagnose()"
   ]
  },
  {
   "cell_type": "code",
   "execution_count": null,
   "metadata": {},
   "outputs": [],
   "source": []
  },
  {
   "cell_type": "code",
   "execution_count": null,
   "metadata": {},
   "outputs": [],
   "source": []
  }
 ],
 "metadata": {
  "interpreter": {
   "hash": "68cd45a3f110281f6e9307f004dacb9490287557e9684d242a0f6f37696448c7"
  },
  "kernelspec": {
   "display_name": "Python 3.10.4 ('cmdstan')",
   "language": "python",
   "name": "python3"
  },
  "language_info": {
   "codemirror_mode": {
    "name": "ipython",
    "version": 3
   },
   "file_extension": ".py",
   "mimetype": "text/x-python",
   "name": "python",
   "nbconvert_exporter": "python",
   "pygments_lexer": "ipython3",
   "version": "3.10.10"
  }
 },
 "nbformat": 4,
 "nbformat_minor": 4
}
